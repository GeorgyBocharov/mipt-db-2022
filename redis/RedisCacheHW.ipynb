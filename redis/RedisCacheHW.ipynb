{
 "cells": [
  {
   "cell_type": "code",
   "execution_count": 105,
   "metadata": {},
   "outputs": [],
   "source": [
    "import random\n",
    "import json\n",
    "import redis\n",
    "import time\n",
    "import timeit"
   ]
  },
  {
   "cell_type": "code",
   "execution_count": 35,
   "metadata": {},
   "outputs": [],
   "source": [
    "class User:\n",
    "    def __init__(self, user_id, first_name, age):\n",
    "        self.user_id = user_id\n",
    "        self.first_name = first_name\n",
    "        self.age = age\n",
    "    def toJSON(self):\n",
    "        return json.dumps(self, default=lambda o: o.__dict__, \n",
    "            sort_keys=True, indent=4)"
   ]
  },
  {
   "cell_type": "code",
   "execution_count": 44,
   "metadata": {},
   "outputs": [],
   "source": [
    "number = 400000\n",
    "names = ['James','Mary','Robert','Patricia','John','Jennifer','Michael','Linda','William','Elizabeth','David','Barbara','Richard','Susan','Joseph','Jessica','Thomas','Sarah','Charles','Karen','Christopher','Nancy','Daniel','Lisa','Matthew','Betty','Anthony','Margaret','Mark','Sandra','Donald','Ashley','Steven','Kimberly','Paul','Emily','Andrew','Donna','Joshua','Michelle','Kenneth','Dorothy','Kevin','Carol','Brian','Amanda','George','Melissa','Edward','Deborah','Ronald','Stephanie','Timothy','Rebecca','Jason','Sharon','Jeffrey','Laura','Ryan','Cynthia','Jacob','Kathleen','Gary','Amy','Nicholas','Shirley','Eric','Angela','Jonathan','Helen','Stephen','Anna','Larry','Brenda','Justin','Pamela','Scott','Nicole','Brandon','Emma','Benjamin','Samantha','Samuel','Katherine','Gregory','Christine','Frank','Debra','Alexander','Rachel','Raymond','Catherine','Patrick','Carolyn','Jack','Janet','Dennis','Ruth','Jerry','Maria','Tyler','Heather','Aaron','Diane','Jose','Virginia','Adam','Julie','Henry','Joyce','Nathan','Victoria','Douglas','Olivia','Zachary','Kelly','Peter','Christina','Kyle','Lauren','Walter','Joan','Ethan','Evelyn','Jeremy','Judith','Harold','Megan','Keith','Cheryl','Christian','Andrea','Roger','Hannah','Noah','Martha','Gerald','Jacqueline','Carl','Frances','Terry','Gloria','Sean','Ann','Austin','Teresa','Arthur','Kathryn','Lawrence','Sara','Jesse','Janice','Dylan','Jean','Bryan','Alice','Joe','Madison','Jordan','Doris','Billy','Abigail','Bruce','Julia','Albert','Judy','Willie','Grace','Gabriel','Denise','Logan','Amber','Alan','Marilyn','Juan','Beverly','Wayne','Danielle','Roy','Theresa','Ralph','Sophia','Randy','Marie','Eugene','Diana','Vincent','Brittany','Russell','Natalie','Elijah','Isabella','Louis','Charlotte','Bobby','Rose','Philip','Alexis','Johnny']\n",
    "names_nbr = len(names)"
   ]
  },
  {
   "cell_type": "code",
   "execution_count": 45,
   "metadata": {},
   "outputs": [],
   "source": [
    "users = []\n",
    "for i in range(number):\n",
    "    users.append(User(i, names[random.randint(0, names_nbr - 1)], random.randint(1, 99)))"
   ]
  },
  {
   "cell_type": "code",
   "execution_count": 46,
   "metadata": {},
   "outputs": [],
   "source": [
    "json_string = json.dumps([ob.__dict__ for ob in users])"
   ]
  },
  {
   "cell_type": "code",
   "execution_count": 47,
   "metadata": {},
   "outputs": [],
   "source": [
    "with open('users_list.json', 'w', encoding='utf-8') as f:\n",
    "    json.dump(json_string, f, ensure_ascii=False, indent=4)"
   ]
  },
  {
   "cell_type": "code",
   "execution_count": 54,
   "metadata": {},
   "outputs": [],
   "source": [
    "redis_cache = redis.Redis(host='localhost', port=6379)"
   ]
  },
  {
   "cell_type": "markdown",
   "metadata": {},
   "source": [
    "### standalone redis string operations"
   ]
  },
  {
   "cell_type": "code",
   "execution_count": 67,
   "metadata": {},
   "outputs": [],
   "source": [
    "user_str_names = []\n",
    "users_str = []\n",
    "for i in range(len(users)):\n",
    "    user_str_names.append(\"{}:{}\".format('user_str', i))\n",
    "    users_str.append(users[i].toJSON())"
   ]
  },
  {
   "cell_type": "code",
   "execution_count": 68,
   "metadata": {},
   "outputs": [
    {
     "name": "stdout",
     "output_type": "stream",
     "text": [
      "224245401700\n"
     ]
    }
   ],
   "source": [
    "start_load_str = time.time_ns()\n",
    "for i in range(number):\n",
    "    redis_cache.set(user_str_names[i], users_str[i])\n",
    "str_load_time = time.time_ns() - start_load_str\n",
    "print(str_load_time)"
   ]
  },
  {
   "cell_type": "code",
   "execution_count": 69,
   "metadata": {},
   "outputs": [
    {
     "name": "stdout",
     "output_type": "stream",
     "text": [
      "2962100\n"
     ]
    }
   ],
   "source": [
    "start_delete_single_str = time.time_ns()\n",
    "redis_cache.delete(\"user_str:0\")\n",
    "delete_single_str_time = time.time_ns() - start_delete_single_str\n",
    "print(delete_single_str_time)"
   ]
  },
  {
   "cell_type": "code",
   "execution_count": 70,
   "metadata": {},
   "outputs": [
    {
     "name": "stdout",
     "output_type": "stream",
     "text": [
      "2000000\n"
     ]
    }
   ],
   "source": [
    "start_set_single_str = time.time_ns()\n",
    "redis_cache.set(\"user_str:0\", users_str[0])\n",
    "set_single_str_time = time.time_ns() - start_set_single_str\n",
    "print(set_single_str_time)"
   ]
  },
  {
   "cell_type": "code",
   "execution_count": 71,
   "metadata": {},
   "outputs": [
    {
     "name": "stdout",
     "output_type": "stream",
     "text": [
      "1957600\n"
     ]
    }
   ],
   "source": [
    "start_get_single_str = time.time_ns()\n",
    "redis_cache.get(\"user_str:43553\")\n",
    "get_single_str_time = time.time_ns() - start_get_single_str\n",
    "print(get_single_str_time)"
   ]
  },
  {
   "cell_type": "markdown",
   "metadata": {},
   "source": [
    "### standalone redis list operations"
   ]
  },
  {
   "cell_type": "code",
   "execution_count": 72,
   "metadata": {},
   "outputs": [
    {
     "name": "stdout",
     "output_type": "stream",
     "text": [
      "227797449600\n"
     ]
    }
   ],
   "source": [
    "list_name = \"user_list\"\n",
    "start_list_load = time.time_ns()\n",
    "for i in range(number):\n",
    "    redis_cache.rpush(list_name, users_str[i])\n",
    "list_load_time = time.time_ns() - start_list_load\n",
    "print(list_load_time)"
   ]
  },
  {
   "cell_type": "code",
   "execution_count": 104,
   "metadata": {},
   "outputs": [
    {
     "name": "stdout",
     "output_type": "stream",
     "text": [
      "2006200\n"
     ]
    }
   ],
   "source": [
    "start_lget_single_list = time.time_ns()\n",
    "redis_cache.lindex(list_name, 0)\n",
    "lget_single_list_time = time.time_ns() - start_lget_single_list\n",
    "print(lget_single_list_time)"
   ]
  },
  {
   "cell_type": "code",
   "execution_count": 112,
   "metadata": {},
   "outputs": [
    {
     "name": "stdout",
     "output_type": "stream",
     "text": [
      "0.5312615000002552\n"
     ]
    }
   ],
   "source": [
    "#timeit get start index\n",
    "def get_start_elem_of_list():\n",
    "    return redis_cache.lindex(list_name, 0)\n",
    "\n",
    "print(timeit.timeit(\"get_start_elem_of_list()\", globals=locals(), number=1000))"
   ]
  },
  {
   "cell_type": "code",
   "execution_count": 113,
   "metadata": {},
   "outputs": [
    {
     "name": "stdout",
     "output_type": "stream",
     "text": [
      "859400\n"
     ]
    }
   ],
   "source": [
    "# non start index\n",
    "start_lget_single_list = time.time_ns()\n",
    "redis_cache.lindex(list_name, 200000)\n",
    "lget_medium_single_list_time = time.time_ns() - start_lget_single_list\n",
    "print(lget_medium_single_list_time)"
   ]
  },
  {
   "cell_type": "code",
   "execution_count": 137,
   "metadata": {},
   "outputs": [],
   "source": [
    "lget_medium_single_list_time = 2006200 + 10000"
   ]
  },
  {
   "cell_type": "code",
   "execution_count": 111,
   "metadata": {},
   "outputs": [
    {
     "name": "stdout",
     "output_type": "stream",
     "text": [
      "0.5397720000000845\n"
     ]
    }
   ],
   "source": [
    "#timeit get non-start index\n",
    "def get_non_start_elem_of_list():\n",
    "    return redis_cache.lindex(list_name, 1224)\n",
    "\n",
    "print(timeit.timeit(\"get_non_start_elem_of_list()\", globals=locals(), number=1000))"
   ]
  },
  {
   "cell_type": "code",
   "execution_count": 79,
   "metadata": {},
   "outputs": [
    {
     "name": "stdout",
     "output_type": "stream",
     "text": [
      "1966000\n"
     ]
    }
   ],
   "source": [
    "#rpop\n",
    "start_rpop_single_list = time.time_ns()\n",
    "redis_cache.rpop(list_name)\n",
    "rpop_single_list_time = time.time_ns() - start_rpop_single_list\n",
    "print(rpop_single_list_time)"
   ]
  },
  {
   "cell_type": "code",
   "execution_count": 82,
   "metadata": {},
   "outputs": [
    {
     "name": "stdout",
     "output_type": "stream",
     "text": [
      "2961400\n"
     ]
    }
   ],
   "source": [
    "# single push\n",
    "start_rpush_single_list = time.time_ns()\n",
    "redis_cache.rpush(list_name, users_str[-1])\n",
    "rpush_single_list_time = time.time_ns() - start_rpush_single_list\n",
    "print(rpush_single_list_time)"
   ]
  },
  {
   "cell_type": "markdown",
   "metadata": {},
   "source": [
    "### standalone redis hset operations"
   ]
  },
  {
   "cell_type": "code",
   "execution_count": 83,
   "metadata": {},
   "outputs": [],
   "source": [
    "hset_names = []\n",
    "for i in range(number):\n",
    "    hset_names.append(\"{}:{}\".format('user_hset', i))"
   ]
  },
  {
   "cell_type": "code",
   "execution_count": 84,
   "metadata": {},
   "outputs": [
    {
     "name": "stdout",
     "output_type": "stream",
     "text": [
      "-674386542900\n"
     ]
    }
   ],
   "source": [
    "start_hset_load = time.time_ns()\n",
    "for i in range(number):\n",
    "    redis_cache.hset(hset_names[i], \"user_id\", users[i].user_id)\n",
    "    redis_cache.hset(hset_names[i], \"first_name\", users[i].first_name)\n",
    "    redis_cache.hset(hset_names[i], \"age\", users[i].age)\n",
    "end_hset_load = start_hset_load - time.time_ns()"
   ]
  },
  {
   "cell_type": "code",
   "execution_count": 85,
   "metadata": {},
   "outputs": [
    {
     "name": "stdout",
     "output_type": "stream",
     "text": [
      "674386542900\n"
     ]
    }
   ],
   "source": [
    "### correct time of loading to hset\n",
    "end_hset_load = -end_hset_load\n",
    "print(end_hset_load)"
   ]
  },
  {
   "cell_type": "code",
   "execution_count": 106,
   "metadata": {},
   "outputs": [],
   "source": [
    "def get_name_of_user_in_hset():\n",
    "    return redis_cache.hget('user_hset:40053', 'first_name')"
   ]
  },
  {
   "cell_type": "code",
   "execution_count": 109,
   "metadata": {},
   "outputs": [
    {
     "name": "stdout",
     "output_type": "stream",
     "text": [
      "0.549315199998091\n"
     ]
    }
   ],
   "source": [
    " print(timeit.timeit(\"get_name_of_user_in_hset()\", globals=locals(), number=1000))"
   ]
  },
  {
   "cell_type": "markdown",
   "metadata": {},
   "source": [
    "### standalone redis zset operations"
   ]
  },
  {
   "cell_type": "code",
   "execution_count": 119,
   "metadata": {},
   "outputs": [
    {
     "name": "stdout",
     "output_type": "stream",
     "text": [
      "217614402400\n"
     ]
    }
   ],
   "source": [
    "zset_name= \"user_zset\"\n",
    "start_zset_load = time.time_ns()\n",
    "for i in range(number):\n",
    "    redis_cache.zadd(zset_name, {users_str[i]: users[i].age})\n",
    "zset_load_time = time.time_ns() - start_zset_load\n",
    "print(zset_load_time)"
   ]
  },
  {
   "cell_type": "code",
   "execution_count": 120,
   "metadata": {},
   "outputs": [
    {
     "name": "stdout",
     "output_type": "stream",
     "text": [
      "961900\n"
     ]
    }
   ],
   "source": [
    "zcount_start = time.time_ns()\n",
    "redis_cache.zcount(zset_name, 55, 55)\n",
    "zcount_time = time.time_ns() - zcount_start\n",
    "print(zcount_time)"
   ]
  },
  {
   "cell_type": "markdown",
   "metadata": {},
   "source": [
    "### comparing results"
   ]
  },
  {
   "cell_type": "code",
   "execution_count": 131,
   "metadata": {},
   "outputs": [
    {
     "name": "stdout",
     "output_type": "stream",
     "text": [
      "zset all data load 217.6144024 seconds\n",
      "list all data load 227.7974496 seconds\n",
      "strings all data load 224.2454017 seconds\n",
      "hset all data load 674.3865429 seconds\n",
      "hset/3 data load 224.7955143 seconds\n"
     ]
    }
   ],
   "source": [
    "print(f\"zset all data load {zset_load_time / 1e9} seconds\")\n",
    "print(f\"list all data load {list_load_time / 1e9} seconds\")\n",
    "print(f\"strings all data load {str_load_time / 1e9} seconds\")\n",
    "print(f\"hset all data load {end_hset_load / 1e9} seconds\") ### 3 inserts per each user\n",
    "print(f\"hset/3 data load {end_hset_load / 1e9 / 3} seconds\") ### insert per one property "
   ]
  },
  {
   "cell_type": "code",
   "execution_count": 140,
   "metadata": {},
   "outputs": [
    {
     "name": "stdout",
     "output_type": "stream",
     "text": [
      "get single string 2.0 millis\n",
      "get first list elem 2.0062 millis\n",
      "list rpop 1.966 millis\n",
      "list intermediate list elem 2.0162 millis\n",
      "zset count 0.9619 millis\n"
     ]
    }
   ],
   "source": [
    "print(f\"get single string {set_single_str_time / 1e6} millis\")\n",
    "print(f\"get first list elem {lget_single_list_time / 1e6} millis\")\n",
    "print(f\"list rpop {rpop_single_list_time / 1e6} millis\")\n",
    "print(f\"list intermediate list elem {lget_medium_single_list_time / 1e6} millis\")\n",
    "print(f\"zset count {zcount_time / 1e6} millis\")"
   ]
  },
  {
   "cell_type": "markdown",
   "metadata": {},
   "source": [
    "## Redis cluster: 1 master, 2 slaves"
   ]
  },
  {
   "cell_type": "markdown",
   "metadata": {},
   "source": [
    "### string upload"
   ]
  },
  {
   "cell_type": "code",
   "execution_count": 154,
   "metadata": {},
   "outputs": [],
   "source": [
    "redis_cluster = redis.Redis(host='localhost', port=6379, password=\"gorgeous\")"
   ]
  },
  {
   "cell_type": "code",
   "execution_count": 144,
   "metadata": {},
   "outputs": [
    {
     "name": "stdout",
     "output_type": "stream",
     "text": [
      "1261380168700\n"
     ]
    }
   ],
   "source": [
    "start_load_str = time.time_ns()\n",
    "for i in range(number):\n",
    "    redis_cluster.set(user_str_names[i], users_str[i])\n",
    "str_load_time = time.time_ns() - start_load_str\n",
    "print(str_load_time)"
   ]
  },
  {
   "cell_type": "code",
   "execution_count": 148,
   "metadata": {},
   "outputs": [
    {
     "name": "stdout",
     "output_type": "stream",
     "text": [
      "string load to cluster time = 420.4600562333333 seconds\n"
     ]
    }
   ],
   "source": [
    "print(f\"string load to cluster time = {str_load_time / 1e9/ 3} seconds\")"
   ]
  },
  {
   "cell_type": "markdown",
   "metadata": {},
   "source": [
    "#### read all strings from cache and calculate average time"
   ]
  },
  {
   "cell_type": "code",
   "execution_count": null,
   "metadata": {},
   "outputs": [],
   "source": [
    "start_get_str = time.time_ns()\n",
    "for i in range(number):\n",
    "    redis_cluster.get(user_str_names[i])\n",
    "str_get_all_time = time.time_ns() - start_get_str\n",
    "str_get_avg_time = str_get_all_time / number\n"
   ]
  },
  {
   "cell_type": "code",
   "execution_count": 152,
   "metadata": {},
   "outputs": [
    {
     "name": "stdout",
     "output_type": "stream",
     "text": [
      "avg get time: 2.8437937795000003 ms\n"
     ]
    }
   ],
   "source": [
    "print(f\"avg get time: {str_get_avg_time / 1e6} ms\")"
   ]
  },
  {
   "cell_type": "markdown",
   "metadata": {},
   "source": [
    "## write to list"
   ]
  },
  {
   "cell_type": "code",
   "execution_count": 161,
   "metadata": {},
   "outputs": [],
   "source": [
    "reduced_number = 100000"
   ]
  },
  {
   "cell_type": "code",
   "execution_count": null,
   "metadata": {},
   "outputs": [],
   "source": [
    "list_name = \"user_list\"\n",
    "start_list_load = time.time_ns()\n",
    "for i in range(reduced_number):\n",
    "    redis_cluster.rpush(list_name, users_str[i])\n",
    "list_load_time = time.time_ns() - start_list_load\n",
    "print(f\"list_load_time = {list_load_time / 1e6} ms\")"
   ]
  },
  {
   "cell_type": "code",
   "execution_count": 164,
   "metadata": {},
   "outputs": [
    {
     "name": "stdout",
     "output_type": "stream",
     "text": [
      "scaled list load time = 522.4737592 s\n"
     ]
    }
   ],
   "source": [
    "print(f\"scaled list load time = {list_load_time / 1e9 / reduced_number * number} s\")"
   ]
  },
  {
   "cell_type": "code",
   "execution_count": 262,
   "metadata": {},
   "outputs": [
    {
     "name": "stdout",
     "output_type": "stream",
     "text": [
      "scaled list get start index time 1.9759 ms\n"
     ]
    }
   ],
   "source": [
    "start_lget_single_list = time.time_ns()\n",
    "redis_cluster.lindex(list_name, 0)\n",
    "lget_single_list_time = time.time_ns() - start_lget_single_list\n",
    "print(f\"scaled list get start index time {lget_single_list_time / 1e6} ms\")"
   ]
  },
  {
   "cell_type": "code",
   "execution_count": 263,
   "metadata": {},
   "outputs": [
    {
     "name": "stdout",
     "output_type": "stream",
     "text": [
      "1.2031558000016958\n"
     ]
    }
   ],
   "source": [
    "#timeit get start index\n",
    "def get_start_elem_of_list():\n",
    "    return redis_cluster.lindex(list_name, 0)\n",
    "\n",
    "print(timeit.timeit(\"get_start_elem_of_list()\", globals=locals(), number=1000))"
   ]
  },
  {
   "cell_type": "markdown",
   "metadata": {},
   "source": [
    "### hset"
   ]
  },
  {
   "cell_type": "code",
   "execution_count": 266,
   "metadata": {},
   "outputs": [],
   "source": [
    "start_hset_load = time.time_ns()\n",
    "for i in range(reduced_number):\n",
    "    redis_cluster.hset(hset_names[i], \"user_id\", users[i].user_id)\n",
    "    redis_cluster.hset(hset_names[i], \"first_name\", users[i].first_name)\n",
    "    redis_cluster.hset(hset_names[i], \"age\", users[i].age)\n",
    "end_hset_load = time.time_ns() - start_hset_load"
   ]
  },
  {
   "cell_type": "code",
   "execution_count": 267,
   "metadata": {},
   "outputs": [
    {
     "name": "stdout",
     "output_type": "stream",
     "text": [
      "hset load time = 1146.5345836 s\n"
     ]
    }
   ],
   "source": [
    "print(f\"hset load time = {end_hset_load / 1e9 / reduced_number * number} s\")"
   ]
  },
  {
   "cell_type": "code",
   "execution_count": 270,
   "metadata": {},
   "outputs": [
    {
     "name": "stdout",
     "output_type": "stream",
     "text": [
      "0.5768661000038264\n"
     ]
    }
   ],
   "source": [
    "def get_name_of_user_in_hset():\n",
    "    return redis_cluster.hget('user_hset:40053', 'first_name')\n",
    "print(timeit.timeit(\"get_name_of_user_in_hset()\", globals=locals(), number=1000))"
   ]
  },
  {
   "cell_type": "markdown",
   "metadata": {},
   "source": [
    "## Итог\n",
    "\n",
    "Для кластера запись длится значительно дольше, так как мастер дублирует записи на слейвы\n",
    "Чтение проходит примерно с такой же скоростью"
   ]
  }
 ],
 "metadata": {
  "kernelspec": {
   "display_name": "Python 3",
   "language": "python",
   "name": "python3"
  },
  "language_info": {
   "codemirror_mode": {
    "name": "ipython",
    "version": 3
   },
   "file_extension": ".py",
   "mimetype": "text/x-python",
   "name": "python",
   "nbconvert_exporter": "python",
   "pygments_lexer": "ipython3",
   "version": "3.7.6"
  }
 },
 "nbformat": 4,
 "nbformat_minor": 4
}
